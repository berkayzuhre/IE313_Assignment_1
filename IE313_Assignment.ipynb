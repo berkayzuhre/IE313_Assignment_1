{
 "cells": [
  {
   "cell_type": "code",
   "execution_count": 1,
   "metadata": {},
   "outputs": [],
   "source": [
    "import pandas as pd \n",
    "import os\n",
    "from pulp import *"
   ]
  },
  {
   "cell_type": "code",
   "execution_count": 2,
   "metadata": {},
   "outputs": [],
   "source": [
    "os.chdir(\"C:/Users/zuhre.b/OneDrive - Procter and Gamble/Desktop/IE313_Assignment1\")"
   ]
  },
  {
   "cell_type": "code",
   "execution_count": 14,
   "metadata": {},
   "outputs": [],
   "source": [
    "single70 = pd.read_excel(\"ProductInfo.xlsx\",sheet_name='Single70')\n",
    "double70 = pd.read_excel(\"ProductInfo.xlsx\",sheet_name='Double70')\n",
    "double80 = pd.read_excel(\"ProductInfo.xlsx\",sheet_name='Double80')\n",
    "total_const = pd.read_excel(\"ProductInfo.xlsx\",sheet_name='Total Constraints')"
   ]
  },
  {
   "cell_type": "code",
   "execution_count": null,
   "metadata": {},
   "outputs": [],
   "source": [
    "#Standart time to produce 1 unit\n",
    "single70_stime = 1.65\n",
    "double70_stime = 2.15\n",
    "double80_stime = 2.68"
   ]
  },
  {
   "cell_type": "code",
   "execution_count": null,
   "metadata": {},
   "outputs": [],
   "source": [
    "#Max Overtime/RegularTime\n",
    "max_overtime_const = 0.25"
   ]
  },
  {
   "cell_type": "code",
   "execution_count": null,
   "metadata": {},
   "outputs": [],
   "source": [
    "#Overtime cost increase\n",
    "overtime_penalty = 1.5"
   ]
  },
  {
   "cell_type": "code",
   "execution_count": null,
   "metadata": {},
   "outputs": [],
   "source": [
    "#Initial Inventories\n",
    "single70_inv = 6500\n",
    "double70_inv = 12000\n",
    "double80_inv = 3000"
   ]
  },
  {
   "cell_type": "code",
   "execution_count": 17,
   "metadata": {},
   "outputs": [],
   "source": [
    "months = list(single70['Months'])\n",
    "products= list([\"single70\",\"double70\",\"double80\"])"
   ]
  },
  {
   "cell_type": "code",
   "execution_count": 21,
   "metadata": {},
   "outputs": [
    {
     "data": {
      "text/plain": [
       "'single70'"
      ]
     },
     "execution_count": 21,
     "metadata": {},
     "output_type": "execute_result"
    }
   ],
   "source": [
    "products[0]"
   ]
  },
  {
   "cell_type": "code",
   "execution_count": 20,
   "metadata": {},
   "outputs": [
    {
     "data": {
      "text/plain": [
       "'Jan'"
      ]
     },
     "execution_count": 20,
     "metadata": {},
     "output_type": "execute_result"
    }
   ],
   "source": [
    "months[0]"
   ]
  },
  {
   "cell_type": "code",
   "execution_count": null,
   "metadata": {},
   "outputs": [],
   "source": [
    "assign_vars = LpVariable.dicts(\"AtLocation\",\n",
    "19 [(i, j) for i in LOCATIONS\n",
    "20 for j in PRODUCTS],\n",
    "21 0, 1, LpBinary)\n"
   ]
  },
  {
   "cell_type": "code",
   "execution_count": 6,
   "metadata": {},
   "outputs": [],
   "source": [
    "#Parameters\n",
    "\n",
    "forecasts = dict(zip(months,Single70[\"Sales Forecast(Units)\"]))\n",
    "\n",
    "unit_cost = dict(zip(months,Single70['Production Cost ($/unit)']))\n",
    "\n",
    "reg_manhour_cost = dict(zip(months,Single70['Cost of Regular Man-Hour']))\n",
    "\n",
    "overtime_manhour_cost = dict(zip(months,Single70['Cost of Regular Man-Hour']*1.5))\n",
    "\n",
    "per_manhour_req = dict(zip(months,Single70['Standart Time Per Unit']))\n",
    "\n",
    "available_manhours = dict(zip(months,Single70['Available Man-Hours']))\n",
    "\n",
    "inventory_carry_cost = dict(zip(months,Single70['Monthly Inventory Carrying Rate']))"
   ]
  },
  {
   "cell_type": "code",
   "execution_count": 7,
   "metadata": {},
   "outputs": [],
   "source": [
    "#Decision Variables\n",
    "\n",
    "prod_rate = LpVariable.dicts(\"prod_rate\",months,lowBound=0,cat='Continuous')\n",
    "\n",
    "regular_work = LpVariable.dicts(\"regular_work\",months,lowBound=0,cat='Continuous')\n",
    "\n",
    "overtime_work = LpVariable.dicts(\"overtime_work\",months,lowBound = 0,cat='Continuous')\n",
    "\n",
    "end_inventory = LpVariable.dicts(\"end_inventory\",months,lowBound=0,cat='Continuous')"
   ]
  },
  {
   "cell_type": "code",
   "execution_count": 8,
   "metadata": {},
   "outputs": [],
   "source": [
    "#Initialize Problem\n",
    "\n",
    "prob = LpProblem(\"Supply_Chain_Management\",LpMinimize)"
   ]
  },
  {
   "cell_type": "code",
   "execution_count": 10,
   "metadata": {},
   "outputs": [],
   "source": [
    "#Objective Function\n",
    "\n",
    "prob += lpSum([unit_cost[months[i]]*prod_rate[months[i]] + unit_cost[months[i]]*end_inventory[months[i]]*inventory_carry_cost[months[i]] + regular_work[months[i]]*reg_manhour_cost[months[i]] + overtime_work[months[i]] * overtime_manhour_cost[months[i]]  for i in range(1,len(months))])"
   ]
  },
  {
   "cell_type": "code",
   "execution_count": 12,
   "metadata": {},
   "outputs": [],
   "source": [
    "#Constraints\n",
    "\n",
    "for i in range(1,len(months)):\n",
    "    prob += forecasts[months[i]] <= prod_rate[months[i]]\n",
    "\n",
    "for i in range(1,len(months)): \n",
    "    prob += end_inventory[months[i-1]] + prod_rate[months[i]] - end_inventory[months[i]] >= forecasts[months[i]]\n",
    "\n",
    "for i in range(1,len(months)): \n",
    "    prob += regular_work[months[i]] <= available_manhours[months[i]]\n",
    "    \n",
    "for i in range(1,len(months)): \n",
    "    prob += overtime_work[months[i]] <= regular_work[months[i]]*0.25\n",
    "    \n",
    "for i in range(1,len(months)): \n",
    "    prob += per_manhour_req[months[i]]*prod_rate[months[i]] <= regular_work[months[i]] + overtime_work[months[i]]\n",
    "    \n",
    "prob += end_inventory[months[0]] == 6500"
   ]
  },
  {
   "cell_type": "code",
   "execution_count": 13,
   "metadata": {},
   "outputs": [
    {
     "data": {
      "text/plain": [
       "1"
      ]
     },
     "execution_count": 13,
     "metadata": {},
     "output_type": "execute_result"
    }
   ],
   "source": [
    "prob.solve()"
   ]
  },
  {
   "cell_type": "code",
   "execution_count": 14,
   "metadata": {},
   "outputs": [
    {
     "name": "stdout",
     "output_type": "stream",
     "text": [
      "Status: Optimal\n"
     ]
    }
   ],
   "source": [
    "print(\"Status:\", LpStatus[prob.status])"
   ]
  },
  {
   "cell_type": "code",
   "execution_count": null,
   "metadata": {},
   "outputs": [],
   "source": [
    "for v in prob.variables():\n",
    "    if v.varValue>0:\n",
    "        print(v.name, \"=\", v.varValue)"
   ]
  },
  {
   "cell_type": "code",
   "execution_count": 15,
   "metadata": {},
   "outputs": [
    {
     "name": "stdout",
     "output_type": "stream",
     "text": [
      "end_inventory_Apr = 0.0\n",
      "end_inventory_Aug = 0.0\n",
      "end_inventory_Dec = 0.0\n",
      "end_inventory_Dummy = 6500.0\n",
      "end_inventory_Feb = 0.0\n",
      "end_inventory_Jan = 0.0\n",
      "end_inventory_Jul = 0.0\n",
      "end_inventory_Jun = 0.0\n",
      "end_inventory_Mar = 0.0\n",
      "end_inventory_May = 0.0\n",
      "end_inventory_Nov = 0.0\n",
      "end_inventory_Oct = 0.0\n",
      "end_inventory_Sep = 0.0\n",
      "overtime_work_Apr = 0.0\n",
      "overtime_work_Aug = 0.0\n",
      "overtime_work_Dec = 0.0\n",
      "overtime_work_Feb = 0.0\n",
      "overtime_work_Jan = 0.0\n",
      "overtime_work_Jul = 0.0\n",
      "overtime_work_Jun = 0.0\n",
      "overtime_work_Mar = 0.0\n",
      "overtime_work_May = 0.0\n",
      "overtime_work_Nov = 0.0\n",
      "overtime_work_Oct = 0.0\n",
      "overtime_work_Sep = 0.0\n",
      "prod_rate_Apr = 26000.0\n",
      "prod_rate_Aug = 29000.0\n",
      "prod_rate_Dec = 30000.0\n",
      "prod_rate_Feb = 25000.0\n",
      "prod_rate_Jan = 25000.0\n",
      "prod_rate_Jul = 28000.0\n",
      "prod_rate_Jun = 27000.0\n",
      "prod_rate_Mar = 26000.0\n",
      "prod_rate_May = 27000.0\n",
      "prod_rate_Nov = 30000.0\n",
      "prod_rate_Oct = 30000.0\n",
      "prod_rate_Sep = 30000.0\n",
      "regular_work_Apr = 42900.0\n",
      "regular_work_Aug = 47850.0\n",
      "regular_work_Dec = 49500.0\n",
      "regular_work_Feb = 41250.0\n",
      "regular_work_Jan = 41250.0\n",
      "regular_work_Jul = 46200.0\n",
      "regular_work_Jun = 44550.0\n",
      "regular_work_Mar = 42900.0\n",
      "regular_work_May = 44550.0\n",
      "regular_work_Nov = 49500.0\n",
      "regular_work_Oct = 49500.0\n",
      "regular_work_Sep = 49500.0\n"
     ]
    }
   ],
   "source": [
    "for v in prob.variables():\n",
    "    print(v.name, \"=\", v.varValue)"
   ]
  }
 ],
 "metadata": {
  "kernelspec": {
   "display_name": "Python 3",
   "language": "python",
   "name": "python3"
  },
  "language_info": {
   "codemirror_mode": {
    "name": "ipython",
    "version": 3
   },
   "file_extension": ".py",
   "mimetype": "text/x-python",
   "name": "python",
   "nbconvert_exporter": "python",
   "pygments_lexer": "ipython3",
   "version": "3.7.4"
  }
 },
 "nbformat": 4,
 "nbformat_minor": 4
}
