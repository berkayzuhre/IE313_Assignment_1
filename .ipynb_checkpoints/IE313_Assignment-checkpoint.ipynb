{
 "cells": [
  {
   "cell_type": "code",
   "execution_count": 1,
   "metadata": {},
   "outputs": [],
   "source": [
    "import pandas as pd \n",
    "import os\n",
    "from pulp import *"
   ]
  },
  {
   "cell_type": "code",
   "execution_count": 3,
   "metadata": {},
   "outputs": [],
   "source": [
    "os.chdir(\"C:/Users/zuhre.b/OneDrive - Procter and Gamble/Desktop/\")"
   ]
  },
  {
   "cell_type": "code",
   "execution_count": 4,
   "metadata": {},
   "outputs": [],
   "source": [
    "Single70 = pd.read_csv(\"Single70.csv\")\n",
    "Double70 = pd.read_csv(\"Double70.csv\")\n",
    "Double80 = pd.read_csv(\"Double80.csv\")"
   ]
  },
  {
   "cell_type": "code",
   "execution_count": 5,
   "metadata": {},
   "outputs": [
    {
     "data": {
      "text/html": [
       "<div>\n",
       "<style scoped>\n",
       "    .dataframe tbody tr th:only-of-type {\n",
       "        vertical-align: middle;\n",
       "    }\n",
       "\n",
       "    .dataframe tbody tr th {\n",
       "        vertical-align: top;\n",
       "    }\n",
       "\n",
       "    .dataframe thead th {\n",
       "        text-align: right;\n",
       "    }\n",
       "</style>\n",
       "<table border=\"1\" class=\"dataframe\">\n",
       "  <thead>\n",
       "    <tr style=\"text-align: right;\">\n",
       "      <th></th>\n",
       "      <th>Months</th>\n",
       "      <th>Sales Forecast(Units)</th>\n",
       "      <th>Production Cost ($/unit)</th>\n",
       "      <th>Monthly Inventory Carrying Rate</th>\n",
       "      <th>Standart Time Per Unit</th>\n",
       "      <th>Available Man-Hours</th>\n",
       "      <th>Max Overtime Limit/Regular Time</th>\n",
       "      <th>Cost of Regular Man-Hour</th>\n",
       "      <th>Overtime Penalty</th>\n",
       "      <th>Initial Inventory</th>\n",
       "    </tr>\n",
       "  </thead>\n",
       "  <tbody>\n",
       "    <tr>\n",
       "      <td>0</td>\n",
       "      <td>Jan</td>\n",
       "      <td>25000</td>\n",
       "      <td>450</td>\n",
       "      <td>0.01</td>\n",
       "      <td>1.65</td>\n",
       "      <td>30000</td>\n",
       "      <td>0.25</td>\n",
       "      <td>30</td>\n",
       "      <td>1.5</td>\n",
       "      <td>6500</td>\n",
       "    </tr>\n",
       "    <tr>\n",
       "      <td>1</td>\n",
       "      <td>Feb</td>\n",
       "      <td>25000</td>\n",
       "      <td>450</td>\n",
       "      <td>0.01</td>\n",
       "      <td>1.65</td>\n",
       "      <td>30000</td>\n",
       "      <td>0.25</td>\n",
       "      <td>30</td>\n",
       "      <td>1.5</td>\n",
       "      <td>0</td>\n",
       "    </tr>\n",
       "    <tr>\n",
       "      <td>2</td>\n",
       "      <td>Mar</td>\n",
       "      <td>26000</td>\n",
       "      <td>450</td>\n",
       "      <td>0.01</td>\n",
       "      <td>1.65</td>\n",
       "      <td>30000</td>\n",
       "      <td>0.25</td>\n",
       "      <td>30</td>\n",
       "      <td>1.5</td>\n",
       "      <td>0</td>\n",
       "    </tr>\n",
       "    <tr>\n",
       "      <td>3</td>\n",
       "      <td>Apr</td>\n",
       "      <td>26000</td>\n",
       "      <td>475</td>\n",
       "      <td>0.01</td>\n",
       "      <td>1.65</td>\n",
       "      <td>30000</td>\n",
       "      <td>0.25</td>\n",
       "      <td>30</td>\n",
       "      <td>1.5</td>\n",
       "      <td>0</td>\n",
       "    </tr>\n",
       "    <tr>\n",
       "      <td>4</td>\n",
       "      <td>May</td>\n",
       "      <td>27000</td>\n",
       "      <td>475</td>\n",
       "      <td>0.01</td>\n",
       "      <td>1.65</td>\n",
       "      <td>30000</td>\n",
       "      <td>0.25</td>\n",
       "      <td>30</td>\n",
       "      <td>1.5</td>\n",
       "      <td>0</td>\n",
       "    </tr>\n",
       "  </tbody>\n",
       "</table>\n",
       "</div>"
      ],
      "text/plain": [
       "  Months  Sales Forecast(Units)  Production Cost ($/unit)  \\\n",
       "0    Jan                  25000                       450   \n",
       "1    Feb                  25000                       450   \n",
       "2    Mar                  26000                       450   \n",
       "3    Apr                  26000                       475   \n",
       "4    May                  27000                       475   \n",
       "\n",
       "   Monthly Inventory Carrying Rate  Standart Time Per Unit  \\\n",
       "0                             0.01                    1.65   \n",
       "1                             0.01                    1.65   \n",
       "2                             0.01                    1.65   \n",
       "3                             0.01                    1.65   \n",
       "4                             0.01                    1.65   \n",
       "\n",
       "   Available Man-Hours  Max Overtime Limit/Regular Time  \\\n",
       "0                30000                             0.25   \n",
       "1                30000                             0.25   \n",
       "2                30000                             0.25   \n",
       "3                30000                             0.25   \n",
       "4                30000                             0.25   \n",
       "\n",
       "   Cost of Regular Man-Hour  Overtime Penalty  Initial Inventory  \n",
       "0                        30               1.5               6500  \n",
       "1                        30               1.5                  0  \n",
       "2                        30               1.5                  0  \n",
       "3                        30               1.5                  0  \n",
       "4                        30               1.5                  0  "
      ]
     },
     "execution_count": 5,
     "metadata": {},
     "output_type": "execute_result"
    }
   ],
   "source": [
    "Single70.head()"
   ]
  },
  {
   "cell_type": "code",
   "execution_count": 6,
   "metadata": {},
   "outputs": [],
   "source": [
    "months = list(Single70['Months'])"
   ]
  },
  {
   "cell_type": "code",
   "execution_count": 7,
   "metadata": {},
   "outputs": [],
   "source": [
    "#Parameters\n",
    "\n",
    "forecasts = dict(zip(months,Single70[\"Sales Forecast(Units)\"]))\n",
    "\n",
    "unit_cost = dict(zip(months,Single70['Production Cost ($/unit)']))\n",
    "\n",
    "reg_manhour_cost = dict(zip(months,Single70['Cost of Regular Man-Hour']))\n",
    "\n",
    "overtime_manhour_cost = dict(zip(months,Single70['Cost of Regular Man-Hour']*1.5))\n",
    "\n",
    "per_manhour_req = dict(zip(months,Single70['Standart Time Per Unit']))\n",
    "\n",
    "available_manhours = dict(zip(months,Single70['Available Man-Hours']))\n",
    "\n",
    "inventory_carry_cost = dict(zip(months,Single70['Monthly Inventory Carrying Rate']))"
   ]
  },
  {
   "cell_type": "code",
   "execution_count": 8,
   "metadata": {},
   "outputs": [],
   "source": [
    "#Decision Variables\n",
    "\n",
    "prod_rate = LpVariable.dicts(\"prod_rate\",months,lowBound=0,cat='Continuous')\n",
    "\n",
    "regular_work = LpVariable.dicts(\"regular_work\",months,lowBound=0,cat='Continuous')\n",
    "\n",
    "overtime_work = LpVariable.dicts(\"overtime_work\",months,lowBound=0,cat='Continuous')\n",
    "\n",
    "end_inventory = LpVariable.dicts(\"end_inventory\",months,lowBound=0,cat='Continuous')"
   ]
  },
  {
   "cell_type": "code",
   "execution_count": 9,
   "metadata": {},
   "outputs": [],
   "source": [
    "#Initialize Problem\n",
    "\n",
    "prob = LpProblem(\"Supply_Chain_Management\",LpMinimize)"
   ]
  },
  {
   "cell_type": "code",
   "execution_count": 10,
   "metadata": {},
   "outputs": [],
   "source": [
    "#Objective Function\n",
    "\n",
    "prob += lpSum([unit_cost[i]*prod_rate[i] + unit_cost[i]*end_inventory[i]*inventory_carry_cost[i] + regular_work[i]*reg_manhour_cost[i] + overtime_work[i] * overtime_manhour_cost[i]  for i in months])"
   ]
  },
  {
   "cell_type": "code",
   "execution_count": 11,
   "metadata": {},
   "outputs": [],
   "source": [
    "#Constraints\n",
    "\n",
    "for i in months: \n",
    "    prob += forecasts[i] <= prod_rate[i]\n",
    "\n",
    "for i in range(1,len(months)): \n",
    "    prob += end_inventory[months[i-1]] + prod_rate[months[i]] - end_inventory[months[i]] >= forecasts[months[i]]\n",
    "\n",
    "for i in months:\n",
    "    prob += regular_work[i] <= available_manhours[i]\n",
    "    \n",
    "for i in months:\n",
    "    prob += overtime_work[i] <= regular_work[i]*0.25\n",
    "    \n",
    "for i in months:\n",
    "    prob += per_manhour_req[i]*prod_rate[i] <= regular_work[i] + overtime_work[i]\n",
    "    \n",
    "prob += end_inventory[months[0]] == 6500"
   ]
  },
  {
   "cell_type": "code",
   "execution_count": 12,
   "metadata": {},
   "outputs": [
    {
     "data": {
      "text/plain": [
       "-1"
      ]
     },
     "execution_count": 12,
     "metadata": {},
     "output_type": "execute_result"
    }
   ],
   "source": [
    "prob.solve()"
   ]
  },
  {
   "cell_type": "code",
   "execution_count": 13,
   "metadata": {},
   "outputs": [
    {
     "name": "stdout",
     "output_type": "stream",
     "text": [
      "Status: Infeasible\n"
     ]
    }
   ],
   "source": [
    "print(\"Status:\", LpStatus[prob.status])"
   ]
  },
  {
   "cell_type": "code",
   "execution_count": 14,
   "metadata": {},
   "outputs": [
    {
     "name": "stdout",
     "output_type": "stream",
     "text": [
      "end_inventory_Aug = 5000.0\n",
      "end_inventory_Feb = 4227.2727\n",
      "end_inventory_Jan = 6500.0\n",
      "end_inventory_Jul = 9000.0\n",
      "end_inventory_Mar = 954.54545\n",
      "overtime_work_Apr = 7500.0\n",
      "overtime_work_Aug = 8250.0\n",
      "overtime_work_Dec = 16500.0\n",
      "overtime_work_Feb = 7500.0\n",
      "overtime_work_Jul = 45975.0\n",
      "overtime_work_Jun = 7500.0\n",
      "overtime_work_Mar = 7500.0\n",
      "overtime_work_May = 7500.0\n",
      "overtime_work_Nov = 16500.0\n",
      "overtime_work_Oct = 16500.0\n",
      "overtime_work_Sep = 8250.0\n",
      "prod_rate_Apr = 22727.273\n",
      "prod_rate_Aug = 25000.0\n",
      "prod_rate_Dec = 30000.0\n",
      "prod_rate_Feb = 22727.273\n",
      "prod_rate_Jan = 25000.0\n",
      "prod_rate_Jul = 47863.636\n",
      "prod_rate_Jun = 22727.273\n",
      "prod_rate_Mar = 22727.273\n",
      "prod_rate_May = 22727.273\n",
      "prod_rate_Nov = 30000.0\n",
      "prod_rate_Oct = 30000.0\n",
      "prod_rate_Sep = 25000.0\n",
      "regular_work_Apr = 30000.0\n",
      "regular_work_Aug = 33000.0\n",
      "regular_work_Dec = 33000.0\n",
      "regular_work_Feb = 30000.0\n",
      "regular_work_Jan = 41250.0\n",
      "regular_work_Jul = 33000.0\n",
      "regular_work_Jun = 30000.0\n",
      "regular_work_Mar = 30000.0\n",
      "regular_work_May = 30000.0\n",
      "regular_work_Nov = 33000.0\n",
      "regular_work_Oct = 33000.0\n",
      "regular_work_Sep = 33000.0\n"
     ]
    }
   ],
   "source": [
    "for v in prob.variables():\n",
    "    if v.varValue>0:\n",
    "        print(v.name, \"=\", v.varValue)"
   ]
  },
  {
   "cell_type": "code",
   "execution_count": 15,
   "metadata": {},
   "outputs": [
    {
     "name": "stdout",
     "output_type": "stream",
     "text": [
      "end_inventory_Apr = 0.0\n",
      "end_inventory_Aug = 0.0\n",
      "end_inventory_Dec = 0.0\n",
      "end_inventory_Feb = 0.0\n",
      "end_inventory_Jan = 6500.0\n",
      "end_inventory_Jul = 0.0\n",
      "end_inventory_Jun = 0.0\n",
      "end_inventory_Mar = 0.0\n",
      "end_inventory_May = 0.0\n",
      "end_inventory_Nov = 0.0\n",
      "end_inventory_Oct = 0.0\n",
      "end_inventory_Sep = 0.0\n",
      "overtime_work_Apr = 0.0\n",
      "overtime_work_Aug = 0.0\n",
      "overtime_work_Dec = 0.0\n",
      "overtime_work_Feb = 0.0\n",
      "overtime_work_Jan = 0.0\n",
      "overtime_work_Jul = 0.0\n",
      "overtime_work_Jun = 0.0\n",
      "overtime_work_Mar = 0.0\n",
      "overtime_work_May = 0.0\n",
      "overtime_work_Nov = 0.0\n",
      "overtime_work_Oct = 0.0\n",
      "overtime_work_Sep = 0.0\n",
      "prod_rate_Apr = 26000.0\n",
      "prod_rate_Aug = 29000.0\n",
      "prod_rate_Dec = 30000.0\n",
      "prod_rate_Feb = 25000.0\n",
      "prod_rate_Jan = 25000.0\n",
      "prod_rate_Jul = 28000.0\n",
      "prod_rate_Jun = 27000.0\n",
      "prod_rate_Mar = 26000.0\n",
      "prod_rate_May = 27000.0\n",
      "prod_rate_Nov = 30000.0\n",
      "prod_rate_Oct = 30000.0\n",
      "prod_rate_Sep = 30000.0\n",
      "regular_work_Apr = 0.0\n",
      "regular_work_Aug = 0.0\n",
      "regular_work_Dec = 0.0\n",
      "regular_work_Feb = 0.0\n",
      "regular_work_Jan = 0.0\n",
      "regular_work_Jul = 0.0\n",
      "regular_work_Jun = 0.0\n",
      "regular_work_Mar = 0.0\n",
      "regular_work_May = 0.0\n",
      "regular_work_Nov = 0.0\n",
      "regular_work_Oct = 0.0\n",
      "regular_work_Sep = 0.0\n"
     ]
    }
   ],
   "source": [
    "for v in prob.variables():\n",
    "    print(v.name, \"=\", v.varValue)"
   ]
  },
  {
   "cell_type": "code",
   "execution_count": null,
   "metadata": {},
   "outputs": [],
   "source": []
  }
 ],
 "metadata": {
  "kernelspec": {
   "display_name": "Python 3",
   "language": "python",
   "name": "python3"
  },
  "language_info": {
   "codemirror_mode": {
    "name": "ipython",
    "version": 3
   },
   "file_extension": ".py",
   "mimetype": "text/x-python",
   "name": "python",
   "nbconvert_exporter": "python",
   "pygments_lexer": "ipython3",
   "version": "3.7.4"
  }
 },
 "nbformat": 4,
 "nbformat_minor": 4
}
