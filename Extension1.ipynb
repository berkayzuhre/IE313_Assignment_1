{
 "cells": [
  {
   "cell_type": "code",
   "execution_count": 1,
   "metadata": {},
   "outputs": [],
   "source": [
    "import pandas as pd \n",
    "import os\n",
    "from pulp import *"
   ]
  },
  {
   "cell_type": "code",
   "execution_count": 2,
   "metadata": {},
   "outputs": [],
   "source": [
    "os.chdir(\"C:/Users/zuhre.b/OneDrive - Procter and Gamble/Desktop/IE313_Assignment1\")"
   ]
  },
  {
   "cell_type": "code",
   "execution_count": 3,
   "metadata": {},
   "outputs": [],
   "source": [
    "single70 = pd.read_excel(\"ProductInfo.xlsx\",sheet_name='Single70')\n",
    "double70 = pd.read_excel(\"ProductInfo.xlsx\",sheet_name='Double70')\n",
    "double80 = pd.read_excel(\"ProductInfo.xlsx\",sheet_name='Double80')\n",
    "total_const = pd.read_excel(\"ProductInfo.xlsx\",sheet_name='Total Constraints')"
   ]
  },
  {
   "cell_type": "code",
   "execution_count": 4,
   "metadata": {},
   "outputs": [],
   "source": [
    "#Standart time to produce 1 unit\n",
    "single70_stime = 1.65\n",
    "double70_stime = 2.15\n",
    "double80_stime = 2.68\n",
    "\n",
    "#Max Overtime/RegularTime\n",
    "max_overtime_const = 0.25\n",
    "\n",
    "#Overtime cost increase\n",
    "overtime_penalty = 1.5\n",
    "\n",
    "#Initial Inventories\n",
    "single70_inv = 6500\n",
    "double70_inv = 12000\n",
    "double80_inv = 3000"
   ]
  },
  {
   "cell_type": "markdown",
   "metadata": {},
   "source": [
    "***Parameters***"
   ]
  },
  {
   "cell_type": "code",
   "execution_count": 5,
   "metadata": {},
   "outputs": [],
   "source": [
    "months = list(single70['Months'])\n",
    "\n",
    "products= list([\"Single70\",\"Double70\",\"Double80\"])\n",
    "unitcosts70=list(single70['Production Cost ($/unit)'])\n",
    "unitcostd70=list(double70['Production Cost ($/unit)'])\n",
    "unitcostd80=list(double80['Production Cost ($/unit)'])\n",
    "forecast70=list(single70['Sales Forecast(Units)'])\n",
    "forecastd70=list(double70['Sales Forecast(Units)'])\n",
    "forecastd800=list(double80['Sales Forecast(Units)'])\n",
    "CostRegularMan=list(total_const[\"Cost of Regular Man-Hour\"])\n",
    "AvailableManHours=list(total_const[\"Available Man-Hours\"])\n",
    "InventoryCarryRate=list(total_const[\"Inventory Carry Rate\"])\n",
    "\n",
    "param={}\n",
    "ays70={}\n",
    "ayd70={}\n",
    "ayd80={}\n",
    "for i in range(len(months)):\n",
    "    ays70[months[i]]={\"forecast\" :forecast70[i] , \"unit cost\" : unitcosts70[i], \"CostRegularMan\": CostRegularMan[i], \"AvailableManHours\" : AvailableManHours[i],\"InventoryCarryRate\" : InventoryCarryRate[i] }\n",
    "    ayd70[months[i]]={\"forecast\" :forecastd70[i] , \"unit cost\" : unitcostd70[i], \"CostRegularMan\": CostRegularMan[i], \"AvailableManHours\" : AvailableManHours[i],\"InventoryCarryRate\" : InventoryCarryRate[i] }\n",
    "    ayd80[months[i]]={\"forecast\" :forecastd800[i] , \"unit cost\" : unitcostd80[i],\"CostRegularMan\": CostRegularMan[i], \"AvailableManHours\" : AvailableManHours[i],\"InventoryCarryRate\" : InventoryCarryRate[i] }\n",
    "\n",
    "for i in range(len(months)):\n",
    "    param[\"Single70\"]=ays70\n",
    "    param[\"Double70\"]=ayd70\n",
    "    param[\"Double80\"]=ayd80\n",
    "    \n"
   ]
  },
  {
   "cell_type": "code",
   "execution_count": 6,
   "metadata": {},
   "outputs": [],
   "source": [
    "#Decision Variables\n",
    "\n",
    "prod_rate = LpVariable.dicts(\"prod_rate\",((month,product) for month in months for product in products),lowBound=0,cat='Continuous')\n",
    "\n",
    "regular_work = LpVariable.dicts(\"regular_work\",((month,product) for month in months for product in products),lowBound=0,cat='Continuous')\n",
    "\n",
    "overtime_work = LpVariable.dicts(\"overtime_work\",((month,product) for month in months for product in products),lowBound = 0,cat='Continuous')\n",
    "\n",
    "end_inventory = LpVariable.dicts(\"end_inventory\",((month,product) for month in months for product in products),lowBound=0,cat='Continuous')\n",
    "\n",
    "extra_work = LpVariable.dicts(\"extra_work\",((month,product) for month in months for product in products),lowBound=0,cat='Continuous')"
   ]
  },
  {
   "cell_type": "code",
   "execution_count": 7,
   "metadata": {},
   "outputs": [],
   "source": [
    "#Initialize Problem\n",
    "\n",
    "prob = LpProblem(\"Supply_Chain_Management\",LpMinimize)"
   ]
  },
  {
   "cell_type": "markdown",
   "metadata": {},
   "source": [
    "# Objective Function\n"
   ]
  },
  {
   "cell_type": "code",
   "execution_count": 8,
   "metadata": {},
   "outputs": [],
   "source": [
    "prob += lpSum([param[prod][month][\"unit cost\"]*prod_rate[(month,prod)] + param[prod][month][\"unit cost\"]*param[prod][month][\"InventoryCarryRate\"]*end_inventory[(month,prod)] + regular_work[(month,prod)]*param[prod][month][\"CostRegularMan\"] + param[prod][month][\"CostRegularMan\"]*overtime_work[(month,prod)]*overtime_penalty + 38*extra_work[(month,prod)] for month in months for prod in products])"
   ]
  },
  {
   "cell_type": "code",
   "execution_count": 10,
   "metadata": {},
   "outputs": [],
   "source": [
    "for prod in products:\n",
    "    for i in range(1,len(months)): \n",
    "        prob += end_inventory[(months[i-1],prod)] + prod_rate[(months[i],prod)] - end_inventory[(months[i],prod)] >= param[prod][months[i]][\"forecast\"]"
   ]
  },
  {
   "cell_type": "code",
   "execution_count": 11,
   "metadata": {},
   "outputs": [],
   "source": [
    "prob += single70_inv + prod_rate[(months[0],products[0])] - end_inventory[(months[0],products[0])] >= param[products[0]][months[0]][\"forecast\"]\n",
    "prob += double70_inv + prod_rate[(months[0],products[1])] - end_inventory[(months[0],products[1])] >= param[products[1]][months[0]][\"forecast\"]\n",
    "prob += double80_inv + prod_rate[(months[0],products[2])] - end_inventory[(months[0],products[2])] >= param[products[2]][months[0]][\"forecast\"]"
   ]
  },
  {
   "cell_type": "code",
   "execution_count": 12,
   "metadata": {},
   "outputs": [],
   "source": [
    "for month in [\"Jan\",\"Feb\",\"Mar\",\"Apr\",\"May\",\"Sep\",\"Oct\",\"Nov\",\"Dec\"]:\n",
    "    for prod in products:\n",
    "        prob += extra_work[(month,prod)] == 0"
   ]
  },
  {
   "cell_type": "code",
   "execution_count": 13,
   "metadata": {},
   "outputs": [],
   "source": [
    "for month in months:\n",
    "        prob += lpSum([regular_work[(month,prod)] for prod in products]) <= param[products[0]][month][\"AvailableManHours\"]"
   ]
  },
  {
   "cell_type": "code",
   "execution_count": 14,
   "metadata": {},
   "outputs": [],
   "source": [
    "for month in months:\n",
    "        prob += lpSum([overtime_work[(month,prod)] for prod in products]) <= lpSum([regular_work[(month,prod)] for prod in products])*0.25"
   ]
  },
  {
   "cell_type": "code",
   "execution_count": 15,
   "metadata": {},
   "outputs": [],
   "source": [
    "for month in months:\n",
    "        prob += prod_rate[(month,products[0])]*single70_stime <= regular_work[(month,products[0])] + overtime_work[(month,products[0])] + extra_work[(month,products[0])]\n",
    "        prob += prod_rate[(month,products[1])]*double70_stime <= regular_work[(month,products[1])] + overtime_work[(month,products[1])] + extra_work[(month,products[1])]\n",
    "        prob += prod_rate[(month,products[2])]*double80_stime <= regular_work[(month,products[2])] + overtime_work[(month,products[2])] + extra_work[(month,products[2])]"
   ]
  },
  {
   "cell_type": "code",
   "execution_count": 16,
   "metadata": {},
   "outputs": [
    {
     "data": {
      "text/plain": [
       "1"
      ]
     },
     "execution_count": 16,
     "metadata": {},
     "output_type": "execute_result"
    }
   ],
   "source": [
    "prob.solve()"
   ]
  },
  {
   "cell_type": "code",
   "execution_count": 17,
   "metadata": {},
   "outputs": [
    {
     "name": "stdout",
     "output_type": "stream",
     "text": [
      "Status: Optimal\n"
     ]
    }
   ],
   "source": [
    "print(\"Status:\", LpStatus[prob.status])"
   ]
  },
  {
   "cell_type": "code",
   "execution_count": 18,
   "metadata": {},
   "outputs": [
    {
     "name": "stdout",
     "output_type": "stream",
     "text": [
      "end_inventory_('Apr',_'Double70') = 0.0\n",
      "end_inventory_('Apr',_'Double80') = 3716.4179\n",
      "end_inventory_('Apr',_'Single70') = 4660.6061\n",
      "end_inventory_('Aug',_'Double70') = 34806.977\n",
      "end_inventory_('Aug',_'Double80') = 0.0\n",
      "end_inventory_('Aug',_'Single70') = 30000.0\n",
      "end_inventory_('Dec',_'Double70') = 0.0\n",
      "end_inventory_('Dec',_'Double80') = 0.0\n",
      "end_inventory_('Dec',_'Single70') = 0.0\n",
      "end_inventory_('Feb',_'Double70') = 0.0\n",
      "end_inventory_('Feb',_'Double80') = 20716.418\n",
      "end_inventory_('Feb',_'Single70') = 0.0\n",
      "end_inventory_('Jan',_'Double70') = 0.0\n",
      "end_inventory_('Jan',_'Double80') = 3481.3433\n",
      "end_inventory_('Jan',_'Single70') = 25000.0\n",
      "end_inventory_('Jul',_'Double70') = 0.0\n",
      "end_inventory_('Jul',_'Double80') = 0.0\n",
      "end_inventory_('Jul',_'Single70') = 59000.0\n",
      "end_inventory_('Jun',_'Double70') = 0.0\n",
      "end_inventory_('Jun',_'Double80') = 0.0\n",
      "end_inventory_('Jun',_'Single70') = 87000.0\n",
      "end_inventory_('Mar',_'Double70') = 0.0\n",
      "end_inventory_('Mar',_'Double80') = 11216.418\n",
      "end_inventory_('Mar',_'Single70') = 3478.7879\n",
      "end_inventory_('May',_'Double70') = 0.0\n",
      "end_inventory_('May',_'Double80') = 0.0\n",
      "end_inventory_('May',_'Single70') = 0.0\n",
      "end_inventory_('Nov',_'Double70') = 21000.0\n",
      "end_inventory_('Nov',_'Double80') = 0.0\n",
      "end_inventory_('Nov',_'Single70') = 0.0\n",
      "end_inventory_('Oct',_'Double70') = 41500.0\n",
      "end_inventory_('Oct',_'Double80') = 6500.0\n",
      "end_inventory_('Oct',_'Single70') = 0.0\n",
      "end_inventory_('Sep',_'Double70') = 54216.279\n",
      "end_inventory_('Sep',_'Double80') = 0.0\n",
      "end_inventory_('Sep',_'Single70') = 0.0\n",
      "extra_work_('Apr',_'Double70') = 0.0\n",
      "extra_work_('Apr',_'Double80') = 0.0\n",
      "extra_work_('Apr',_'Single70') = 0.0\n",
      "extra_work_('Aug',_'Double70') = 11385.0\n",
      "extra_work_('Aug',_'Double80') = 17420.0\n",
      "extra_work_('Aug',_'Single70') = 0.0\n",
      "extra_work_('Dec',_'Double70') = 0.0\n",
      "extra_work_('Dec',_'Double80') = 0.0\n",
      "extra_work_('Dec',_'Single70') = 0.0\n",
      "extra_work_('Feb',_'Double70') = 0.0\n",
      "extra_work_('Feb',_'Double80') = 0.0\n",
      "extra_work_('Feb',_'Single70') = 0.0\n",
      "extra_work_('Jan',_'Double70') = 0.0\n",
      "extra_work_('Jan',_'Double80') = 0.0\n",
      "extra_work_('Jan',_'Single70') = 0.0\n",
      "extra_work_('Jul',_'Double70') = 0.0\n",
      "extra_work_('Jul',_'Double80') = 0.0\n",
      "extra_work_('Jul',_'Single70') = 0.0\n",
      "extra_work_('Jun',_'Double70') = 40850.0\n",
      "extra_work_('Jun',_'Double80') = 20100.0\n",
      "extra_work_('Jun',_'Single70') = 98100.0\n",
      "extra_work_('Mar',_'Double70') = 0.0\n",
      "extra_work_('Mar',_'Double80') = 0.0\n",
      "extra_work_('Mar',_'Single70') = 0.0\n",
      "extra_work_('May',_'Double70') = 0.0\n",
      "extra_work_('May',_'Double80') = 0.0\n",
      "extra_work_('May',_'Single70') = 0.0\n",
      "extra_work_('Nov',_'Double70') = 0.0\n",
      "extra_work_('Nov',_'Double80') = 0.0\n",
      "extra_work_('Nov',_'Single70') = 0.0\n",
      "extra_work_('Oct',_'Double70') = 0.0\n",
      "extra_work_('Oct',_'Double80') = 0.0\n",
      "extra_work_('Oct',_'Single70') = 0.0\n",
      "extra_work_('Sep',_'Double70') = 0.0\n",
      "extra_work_('Sep',_'Double80') = 0.0\n",
      "extra_work_('Sep',_'Single70') = 0.0\n",
      "overtime_work_('Apr',_'Double70') = 0.0\n",
      "overtime_work_('Apr',_'Double80') = 0.0\n",
      "overtime_work_('Apr',_'Single70') = 0.0\n",
      "overtime_work_('Aug',_'Double70') = 0.0\n",
      "overtime_work_('Aug',_'Double80') = 0.0\n",
      "overtime_work_('Aug',_'Single70') = 0.0\n",
      "overtime_work_('Dec',_'Double70') = 0.0\n",
      "overtime_work_('Dec',_'Double80') = 0.0\n",
      "overtime_work_('Dec',_'Single70') = 0.0\n",
      "overtime_work_('Feb',_'Double70') = 22500.0\n",
      "overtime_work_('Feb',_'Double80') = 0.0\n",
      "overtime_work_('Feb',_'Single70') = 0.0\n",
      "overtime_work_('Jan',_'Double70') = 13975.0\n",
      "overtime_work_('Jan',_'Double80') = 0.0\n",
      "overtime_work_('Jan',_'Single70') = 8525.0\n",
      "overtime_work_('Jul',_'Double70') = 0.0\n",
      "overtime_work_('Jul',_'Double80') = 0.0\n",
      "overtime_work_('Jul',_'Single70') = 0.0\n",
      "overtime_work_('Jun',_'Double70') = 0.0\n",
      "overtime_work_('Jun',_'Double80') = 0.0\n",
      "overtime_work_('Jun',_'Single70') = 0.0\n",
      "overtime_work_('Mar',_'Double70') = 1640.0\n",
      "overtime_work_('Mar',_'Double80') = 0.0\n",
      "overtime_work_('Mar',_'Single70') = 0.0\n",
      "overtime_work_('May',_'Double70') = 0.0\n",
      "overtime_work_('May',_'Double80') = 0.0\n",
      "overtime_work_('May',_'Single70') = 0.0\n",
      "overtime_work_('Nov',_'Double70') = 0.0\n",
      "overtime_work_('Nov',_'Double80') = 0.0\n",
      "overtime_work_('Nov',_'Single70') = 0.0\n",
      "overtime_work_('Oct',_'Double70') = 0.0\n",
      "overtime_work_('Oct',_'Double80') = 0.0\n",
      "overtime_work_('Oct',_'Single70') = 0.0\n",
      "overtime_work_('Sep',_'Double70') = 0.0\n",
      "overtime_work_('Sep',_'Double80') = 0.0\n",
      "overtime_work_('Sep',_'Single70') = 0.0\n",
      "prod_rate_('Apr',_'Double70') = 21000.0\n",
      "prod_rate_('Apr',_'Double80') = 0.0\n",
      "prod_rate_('Apr',_'Single70') = 27181.818\n",
      "prod_rate_('Aug',_'Double70') = 51806.977\n",
      "prod_rate_('Aug',_'Double80') = 6500.0\n",
      "prod_rate_('Aug',_'Single70') = 0.0\n",
      "prod_rate_('Dec',_'Double70') = 0.0\n",
      "prod_rate_('Dec',_'Double80') = 6500.0\n",
      "prod_rate_('Dec',_'Single70') = 30000.0\n",
      "prod_rate_('Feb',_'Double70') = 19000.0\n",
      "prod_rate_('Feb',_'Double80') = 26735.075\n",
      "prod_rate_('Feb',_'Single70') = 0.0\n",
      "prod_rate_('Jan',_'Double70') = 6500.0\n",
      "prod_rate_('Jan',_'Double80') = 9981.3433\n",
      "prod_rate_('Jan',_'Single70') = 43500.0\n",
      "prod_rate_('Jul',_'Double70') = 18000.0\n",
      "prod_rate_('Jul',_'Double80') = 6500.0\n",
      "prod_rate_('Jul',_'Single70') = 0.0\n",
      "prod_rate_('Jun',_'Double70') = 19000.0\n",
      "prod_rate_('Jun',_'Double80') = 7500.0\n",
      "prod_rate_('Jun',_'Single70') = 114000.0\n",
      "prod_rate_('Mar',_'Double70') = 20000.0\n",
      "prod_rate_('Mar',_'Double80') = 0.0\n",
      "prod_rate_('Mar',_'Single70') = 29478.788\n",
      "prod_rate_('May',_'Double70') = 20000.0\n",
      "prod_rate_('May',_'Double80') = 3783.5821\n",
      "prod_rate_('May',_'Single70') = 22339.394\n",
      "prod_rate_('Nov',_'Double70') = 0.0\n",
      "prod_rate_('Nov',_'Double80') = 0.0\n",
      "prod_rate_('Nov',_'Single70') = 30000.0\n",
      "prod_rate_('Oct',_'Double70') = 7283.7209\n",
      "prod_rate_('Oct',_'Double80') = 13000.0\n",
      "prod_rate_('Oct',_'Single70') = 30000.0\n",
      "prod_rate_('Sep',_'Double70') = 38409.302\n",
      "prod_rate_('Sep',_'Double80') = 6500.0\n",
      "prod_rate_('Sep',_'Single70') = 0.0\n",
      "regular_work_('Apr',_'Double70') = 45150.0\n",
      "regular_work_('Apr',_'Double80') = 0.0\n",
      "regular_work_('Apr',_'Single70') = 44850.0\n",
      "regular_work_('Aug',_'Double70') = 100000.0\n",
      "regular_work_('Aug',_'Double80') = 0.0\n",
      "regular_work_('Aug',_'Single70') = 0.0\n",
      "regular_work_('Dec',_'Double70') = 0.0\n",
      "regular_work_('Dec',_'Double80') = 17420.0\n",
      "regular_work_('Dec',_'Single70') = 49500.0\n",
      "regular_work_('Feb',_'Double70') = 18350.0\n",
      "regular_work_('Feb',_'Double80') = 71650.0\n",
      "regular_work_('Feb',_'Single70') = 0.0\n",
      "regular_work_('Jan',_'Double70') = 0.0\n",
      "regular_work_('Jan',_'Double80') = 26750.0\n",
      "regular_work_('Jan',_'Single70') = 63250.0\n",
      "regular_work_('Jul',_'Double70') = 38700.0\n",
      "regular_work_('Jul',_'Double80') = 17420.0\n",
      "regular_work_('Jul',_'Single70') = 0.0\n",
      "regular_work_('Jun',_'Double70') = 0.0\n",
      "regular_work_('Jun',_'Double80') = 0.0\n",
      "regular_work_('Jun',_'Single70') = 90000.0\n",
      "regular_work_('Mar',_'Double70') = 41360.0\n",
      "regular_work_('Mar',_'Double80') = 0.0\n",
      "regular_work_('Mar',_'Single70') = 48640.0\n",
      "regular_work_('May',_'Double70') = 43000.0\n",
      "regular_work_('May',_'Double80') = 10140.0\n",
      "regular_work_('May',_'Single70') = 36860.0\n",
      "regular_work_('Nov',_'Double70') = 0.0\n",
      "regular_work_('Nov',_'Double80') = 0.0\n",
      "regular_work_('Nov',_'Single70') = 49500.0\n",
      "regular_work_('Oct',_'Double70') = 15660.0\n",
      "regular_work_('Oct',_'Double80') = 34840.0\n",
      "regular_work_('Oct',_'Single70') = 49500.0\n",
      "regular_work_('Sep',_'Double70') = 82580.0\n",
      "regular_work_('Sep',_'Double80') = 17420.0\n",
      "regular_work_('Sep',_'Single70') = 0.0\n"
     ]
    }
   ],
   "source": [
    "for v in prob.variables():\n",
    "    print(v.name, \"=\", v.varValue)"
   ]
  },
  {
   "cell_type": "code",
   "execution_count": 19,
   "metadata": {},
   "outputs": [
    {
     "data": {
      "text/plain": [
       "394054275.8433751"
      ]
     },
     "execution_count": 19,
     "metadata": {},
     "output_type": "execute_result"
    }
   ],
   "source": [
    "value(prob.objective)"
   ]
  },
  {
   "cell_type": "code",
   "execution_count": null,
   "metadata": {},
   "outputs": [],
   "source": []
  }
 ],
 "metadata": {
  "kernelspec": {
   "display_name": "Python 3",
   "language": "python",
   "name": "python3"
  },
  "language_info": {
   "codemirror_mode": {
    "name": "ipython",
    "version": 3
   },
   "file_extension": ".py",
   "mimetype": "text/x-python",
   "name": "python",
   "nbconvert_exporter": "python",
   "pygments_lexer": "ipython3",
   "version": "3.7.4"
  }
 },
 "nbformat": 4,
 "nbformat_minor": 4
}
