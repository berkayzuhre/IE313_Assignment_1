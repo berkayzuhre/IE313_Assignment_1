{
 "cells": [
  {
   "cell_type": "code",
   "execution_count": 1,
   "metadata": {},
   "outputs": [],
   "source": [
    "import pandas as pd \n",
    "import os\n",
    "from pulp import *"
   ]
  },
  {
   "cell_type": "code",
   "execution_count": 2,
   "metadata": {},
   "outputs": [],
   "source": [
    "os.chdir(\"C:/Users/zuhre.b/OneDrive - Procter and Gamble/Desktop/IE313_Assignment1\")"
   ]
  },
  {
   "cell_type": "code",
   "execution_count": 3,
   "metadata": {},
   "outputs": [],
   "source": [
    "single70 = pd.read_excel(\"ProductInfo.xlsx\",sheet_name='Single70')\n",
    "double70 = pd.read_excel(\"ProductInfo.xlsx\",sheet_name='Double70')\n",
    "double80 = pd.read_excel(\"ProductInfo.xlsx\",sheet_name='Double80')\n",
    "total_const = pd.read_excel(\"ProductInfo.xlsx\",sheet_name='Total Constraints')"
   ]
  },
  {
   "cell_type": "code",
   "execution_count": 4,
   "metadata": {},
   "outputs": [],
   "source": [
    "#Max Overtime/RegularTime\n",
    "max_overtime_const = 0.25\n",
    "\n",
    "#Overtime cost increase\n",
    "overtime_penalty = 1.5"
   ]
  },
  {
   "cell_type": "code",
   "execution_count": 5,
   "metadata": {},
   "outputs": [],
   "source": [
    "#Initial Lists\n",
    "months = list(single70['Months'])\n",
    "products= list([\"Single70\",\"Double70\",\"Double80\"])"
   ]
  },
  {
   "cell_type": "markdown",
   "metadata": {},
   "source": [
    "***Parameters***"
   ]
  },
  {
   "cell_type": "code",
   "execution_count": 6,
   "metadata": {},
   "outputs": [],
   "source": [
    "#Product based parameters\n",
    "\n",
    "prod_param = {}\n",
    "\n",
    "for prod in products:\n",
    "    if prod == \"Single70\":\n",
    "        prod_param[prod] = {\"StandartTime\" : 1.65, \"InitialInventory\" : 6500}\n",
    "    if prod == \"Double70\":\n",
    "        prod_param[prod] = {\"StandartTime\" : 2.15, \"InitialInventory\" : 12000}\n",
    "    if prod == \"Double80\":\n",
    "        prod_param[prod] = {\"StandartTime\" : 2.68, \"InitialInventory\" : 3000}"
   ]
  },
  {
   "cell_type": "code",
   "execution_count": 7,
   "metadata": {},
   "outputs": [],
   "source": [
    "#Time based parameters\n",
    "\n",
    "CostRegularMan=list(total_const[\"Cost of Regular Man-Hour\"])\n",
    "AvailableManHours=list(total_const[\"Available Man-Hours\"])\n",
    "InventoryCarryRate=list(total_const[\"Inventory Carry Rate\"])\n",
    "\n",
    "month_param = {}\n",
    "\n",
    "for i in range(len(months)):\n",
    "    month_param[months[i]] = {\"CostRegularMan\" : CostRegularMan[i],\"AvailableManHours\" : AvailableManHours[i],\"InventoryCarryRate\" : InventoryCarryRate[i]}"
   ]
  },
  {
   "cell_type": "code",
   "execution_count": 8,
   "metadata": {},
   "outputs": [],
   "source": [
    "#Time and Product based parameters\n",
    "\n",
    "unitcosts70=list(single70['Production Cost ($/unit)'])\n",
    "unitcostd70=list(double70['Production Cost ($/unit)'])\n",
    "unitcostd80=list(double80['Production Cost ($/unit)'])\n",
    "forecast70=list(single70['Sales Forecast(Units)'])\n",
    "forecastd70=list(double70['Sales Forecast(Units)'])\n",
    "forecastd800=list(double80['Sales Forecast(Units)'])\n",
    "\n",
    "param={}\n",
    "ays70={}\n",
    "ayd70={}\n",
    "ayd80={}\n",
    "\n",
    "for i in range(len(months)):\n",
    "    ays70[months[i]]={\"Forecast\" :forecast70[i] , \"UnitCost\" : unitcosts70[i]}\n",
    "    ayd70[months[i]]={\"Forecast\" :forecastd70[i] , \"UnitCost\" : unitcostd70[i]}\n",
    "    ayd80[months[i]]={\"Forecast\" :forecastd800[i] , \"UnitCost\" : unitcostd80[i]}\n",
    "\n",
    "\n",
    "param[\"Single70\"]=ays70\n",
    "param[\"Double70\"]=ayd70\n",
    "param[\"Double80\"]=ayd80\n",
    "    \n"
   ]
  },
  {
   "cell_type": "code",
   "execution_count": 9,
   "metadata": {},
   "outputs": [],
   "source": [
    "#Decision Variables\n",
    "\n",
    "prod_rate = LpVariable.dicts(\"prod_rate\",((month,product) for month in months for product in products),lowBound=0,cat='Integer')\n",
    "\n",
    "regular_work = LpVariable.dicts(\"regular_work\",((month,product) for month in months for product in products),lowBound=0,cat='Continuous')\n",
    "\n",
    "overtime_work = LpVariable.dicts(\"overtime_work\",((month,product) for month in months for product in products),lowBound = 0,cat='Continuous')\n",
    "\n",
    "end_inventory = LpVariable.dicts(\"end_inventory\",((month,product) for month in months for product in products),lowBound=0,cat='Integer')"
   ]
  },
  {
   "cell_type": "code",
   "execution_count": 10,
   "metadata": {},
   "outputs": [],
   "source": [
    "#Initialize Problem\n",
    "\n",
    "prob = LpProblem(\"Supply_Chain_Management\",LpMinimize)"
   ]
  },
  {
   "cell_type": "markdown",
   "metadata": {},
   "source": [
    "# Objective Function\n"
   ]
  },
  {
   "cell_type": "code",
   "execution_count": 11,
   "metadata": {},
   "outputs": [],
   "source": [
    "prob += lpSum([param[prod][month][\"UnitCost\"]*prod_rate[(month,prod)] + param[prod][month][\"UnitCost\"]*month_param[month][\"InventoryCarryRate\"]*end_inventory[(month,prod)] + regular_work[(month,prod)]*month_param[month][\"CostRegularMan\"] + month_param[month][\"CostRegularMan\"]*overtime_work[(month,prod)]*overtime_penalty for month in months for prod in products])"
   ]
  },
  {
   "cell_type": "code",
   "execution_count": 12,
   "metadata": {},
   "outputs": [],
   "source": [
    "for prod in products:\n",
    "    for i in range(1,len(months)): \n",
    "        prob += end_inventory[(months[i-1],prod)] + prod_rate[(months[i],prod)] - end_inventory[(months[i],prod)] >= param[prod][months[i]][\"Forecast\"]"
   ]
  },
  {
   "cell_type": "code",
   "execution_count": 13,
   "metadata": {},
   "outputs": [],
   "source": [
    "for prod in products:\n",
    "    prob += prod_param[prod][\"InitialInventory\"] + prod_rate[(months[0],prod)] - end_inventory[(months[0],prod)] >= param[prod][months[0]][\"Forecast\"]"
   ]
  },
  {
   "cell_type": "code",
   "execution_count": 14,
   "metadata": {},
   "outputs": [],
   "source": [
    "for month in months:\n",
    "        prob += lpSum([regular_work[(month,prod)] for prod in products]) <= month_param[month][\"AvailableManHours\"]"
   ]
  },
  {
   "cell_type": "code",
   "execution_count": 15,
   "metadata": {},
   "outputs": [],
   "source": [
    "for month in months:\n",
    "        prob += lpSum([overtime_work[(month,prod)] for prod in products]) <= lpSum([regular_work[(month,prod)] for prod in products])*0.25"
   ]
  },
  {
   "cell_type": "code",
   "execution_count": 16,
   "metadata": {},
   "outputs": [],
   "source": [
    "for month in months:\n",
    "    for prod in products:\n",
    "        prob += prod_rate[(month,prod)]*prod_param[prod][\"StandartTime\"] == regular_work[(month,prod)] + overtime_work[(month,prod)]"
   ]
  },
  {
   "cell_type": "code",
   "execution_count": 17,
   "metadata": {},
   "outputs": [],
   "source": [
    "for month in months:\n",
    "        prob += lpSum([end_inventory[(month,prod)] for prod in products]) <= 25000 "
   ]
  },
  {
   "cell_type": "code",
   "execution_count": 18,
   "metadata": {},
   "outputs": [
    {
     "data": {
      "text/plain": [
       "1"
      ]
     },
     "execution_count": 18,
     "metadata": {},
     "output_type": "execute_result"
    }
   ],
   "source": [
    "prob.solve()"
   ]
  },
  {
   "cell_type": "code",
   "execution_count": null,
   "metadata": {},
   "outputs": [],
   "source": [
    "for v in prob.variables():\n",
    "    print(v.name, \"=\", v.varValue)"
   ]
  },
  {
   "cell_type": "code",
   "execution_count": 20,
   "metadata": {},
   "outputs": [
    {
     "data": {
      "text/plain": [
       "396131200.20000005"
      ]
     },
     "execution_count": 20,
     "metadata": {},
     "output_type": "execute_result"
    }
   ],
   "source": [
    "value(prob.objective)"
   ]
  },
  {
   "cell_type": "code",
   "execution_count": null,
   "metadata": {},
   "outputs": [],
   "source": [
    "prob"
   ]
  },
  {
   "cell_type": "code",
   "execution_count": 23,
   "metadata": {},
   "outputs": [],
   "source": [
    "shadow_price = [{'name':name,'shadow price':c.pi, 'slack':c.slack, } for name, c in prob.constraints.items()]"
   ]
  },
  {
   "cell_type": "code",
   "execution_count": null,
   "metadata": {},
   "outputs": [],
   "source": [
    "shadow_price"
   ]
  },
  {
   "cell_type": "code",
   "execution_count": null,
   "metadata": {},
   "outputs": [],
   "source": [
    "prob.constraints.items()"
   ]
  },
  {
   "cell_type": "code",
   "execution_count": null,
   "metadata": {},
   "outputs": [],
   "source": []
  }
 ],
 "metadata": {
  "kernelspec": {
   "display_name": "Python 3",
   "language": "python",
   "name": "python3"
  },
  "language_info": {
   "codemirror_mode": {
    "name": "ipython",
    "version": 3
   },
   "file_extension": ".py",
   "mimetype": "text/x-python",
   "name": "python",
   "nbconvert_exporter": "python",
   "pygments_lexer": "ipython3",
   "version": "3.7.4"
  }
 },
 "nbformat": 4,
 "nbformat_minor": 4
}
